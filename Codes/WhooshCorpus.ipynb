{
  "nbformat": 4,
  "nbformat_minor": 0,
  "metadata": {
    "colab": {
      "provenance": [],
      "toc_visible": true
    },
    "kernelspec": {
      "name": "python3",
      "display_name": "Python 3"
    },
    "language_info": {
      "name": "python"
    }
  },
  "cells": [
    {
      "cell_type": "code",
      "execution_count": null,
      "metadata": {
        "colab": {
          "base_uri": "https://localhost:8080/"
        },
        "id": "R6GvLRlfIToa",
        "outputId": "9ea1cfdd-9efe-49ea-fe3f-a7ad7de0899f"
      },
      "outputs": [
        {
          "output_type": "stream",
          "name": "stdout",
          "text": [
            "Collecting Whoosh\n",
            "  Downloading Whoosh-2.7.4-py2.py3-none-any.whl (468 kB)\n",
            "\u001b[?25l     \u001b[90m━━━━━━━━━━━━━━━━━━━━━━━━━━━━━━━━━━━━━━━━\u001b[0m \u001b[32m0.0/468.8 kB\u001b[0m \u001b[31m?\u001b[0m eta \u001b[36m-:--:--\u001b[0m\r\u001b[2K     \u001b[91m━━━━━━━━━━━━━━━━━━━━━━━━━━\u001b[0m\u001b[90m╺\u001b[0m\u001b[90m━━━━━━━━━━━━\u001b[0m \u001b[32m317.4/468.8 kB\u001b[0m \u001b[31m9.3 MB/s\u001b[0m eta \u001b[36m0:00:01\u001b[0m\r\u001b[2K     \u001b[90m━━━━━━━━━━━━━━━━━━━━━━━━━━━━━━━━━━━━━━━\u001b[0m \u001b[32m468.8/468.8 kB\u001b[0m \u001b[31m9.8 MB/s\u001b[0m eta \u001b[36m0:00:00\u001b[0m\n",
            "\u001b[?25hInstalling collected packages: Whoosh\n",
            "Successfully installed Whoosh-2.7.4\n"
          ]
        }
      ],
      "source": [
        "!pip install Whoosh"
      ]
    },
    {
      "cell_type": "code",
      "source": [
        "import nltk\n",
        "nltk.download('stopwords')\n",
        "nltk.download('punkt')\n",
        "\n",
        "\n",
        "from whoosh.index import create_in\n",
        "from whoosh.fields import *\n",
        "from whoosh.analysis import StandardAnalyzer\n",
        "\n",
        "from whoosh import qparser\n",
        "from whoosh import scoring\n",
        "import whoosh.index as index"
      ],
      "metadata": {
        "colab": {
          "base_uri": "https://localhost:8080/"
        },
        "id": "UZpqa0dMIfP7",
        "outputId": "3b914ca5-b070-4a2a-e0b7-17f3ea1e7e00"
      },
      "execution_count": null,
      "outputs": [
        {
          "output_type": "stream",
          "name": "stderr",
          "text": [
            "[nltk_data] Downloading package stopwords to /root/nltk_data...\n",
            "[nltk_data]   Unzipping corpora/stopwords.zip.\n",
            "[nltk_data] Downloading package punkt to /root/nltk_data...\n",
            "[nltk_data]   Unzipping tokenizers/punkt.zip.\n"
          ]
        }
      ]
    },
    {
      "cell_type": "markdown",
      "source": [
        "# Reading Corpus"
      ],
      "metadata": {
        "id": "S1_3Vh8qLMz8"
      }
    },
    {
      "cell_type": "code",
      "source": [
        "# NFCorpus\n",
        "!gdown 1QscBtuFj3XW7Gl3lhWdEx6r8Yit0yJ2v"
      ],
      "metadata": {
        "colab": {
          "base_uri": "https://localhost:8080/"
        },
        "id": "uKlbQCrIIgpd",
        "outputId": "1021c614-0a9b-4d57-f0b8-a86f8123fdf1"
      },
      "execution_count": null,
      "outputs": [
        {
          "output_type": "stream",
          "name": "stdout",
          "text": [
            "Downloading...\n",
            "From: https://drive.google.com/uc?id=1QscBtuFj3XW7Gl3lhWdEx6r8Yit0yJ2v\n",
            "To: /content/nfcorpus.tar.gz\n",
            "100% 97.3M/97.3M [00:00<00:00, 167MB/s]\n"
          ]
        }
      ]
    },
    {
      "cell_type": "code",
      "source": [
        "!tar -xvf 'nfcorpus.tar.gz'"
      ],
      "metadata": {
        "colab": {
          "base_uri": "https://localhost:8080/"
        },
        "id": "EbqnWG2HKQEC",
        "outputId": "cfe6c4c1-e1e6-415b-c7d6-e7a53ed3370a"
      },
      "execution_count": null,
      "outputs": [
        {
          "output_type": "stream",
          "name": "stdout",
          "text": [
            "nfcorpus/\n",
            "nfcorpus/train.docs\n",
            "nfcorpus/test.docs\n",
            "nfcorpus/dev.docs\n",
            "nfcorpus/dev.3-2-1.qrel\n",
            "nfcorpus/test.3-2-1.qrel\n",
            "nfcorpus/train.3-2-1.qrel\n",
            "nfcorpus/raw/\n",
            "nfcorpus/raw/doc_dump.txt\n",
            "nfcorpus/raw/dev.docs.ids\n",
            "nfcorpus/raw/dev.queries.ids\n",
            "nfcorpus/raw/test.docs.ids\n",
            "nfcorpus/raw/test.queries.ids\n",
            "nfcorpus/raw/train.docs.ids\n",
            "nfcorpus/raw/train.queries.ids\n",
            "nfcorpus/raw/stopwords.large\n",
            "nfcorpus/raw/nfdump.txt\n",
            "nfcorpus/raw/all_videos.ids\n",
            "nfcorpus/raw/nontopics.ids\n",
            "nfcorpus/test.2-1-0.qrel\n",
            "nfcorpus/dev.2-1-0.qrel\n",
            "nfcorpus/train.2-1-0.qrel\n",
            "nfcorpus/ecir2016.bib\n",
            "nfcorpus/test.vid-desc.queries\n",
            "nfcorpus/dev.vid-desc.queries\n",
            "nfcorpus/train.vid-desc.queries\n",
            "nfcorpus/dev.all.queries\n",
            "nfcorpus/test.all.queries\n",
            "nfcorpus/train.all.queries\n",
            "nfcorpus/dev.vid-titles.queries\n",
            "nfcorpus/test.vid-titles.queries\n",
            "nfcorpus/train.vid-titles.queries\n",
            "nfcorpus/dev.titles.queries\n",
            "nfcorpus/test.titles.queries\n",
            "nfcorpus/train.titles.queries\n",
            "nfcorpus/dev.nontopic-titles.queries\n",
            "nfcorpus/test.nontopic-titles.queries\n",
            "nfcorpus/train.nontopic-titles.queries\n",
            "nfcorpus/README.txt\n"
          ]
        }
      ]
    },
    {
      "cell_type": "code",
      "source": [
        "## Read the .docs file\n",
        "CorpusDocs = {}\n",
        "\n",
        "with open('/content/nfcorpus/train.docs', 'r', encoding='utf-8') as file:\n",
        "    lines = file.readlines()\n",
        "\n",
        "    for line in lines:\n",
        "        line = line.strip()\n",
        "        doc_id, doc_text = line.split('\\t')\n",
        "        CorpusDocs[doc_id] = doc_text\n",
        "\n",
        "# Now you have the documents stored in the 'documents' dictionary"
      ],
      "metadata": {
        "id": "b_uce6LNKUsv"
      },
      "execution_count": null,
      "outputs": []
    },
    {
      "cell_type": "code",
      "source": [
        "# Read any queries\n",
        "CorpusQueries = {}\n",
        "\n",
        "with open('/content/nfcorpus/train.all.queries', 'r', encoding='utf-8') as file:\n",
        "    lines = file.readlines()\n",
        "\n",
        "    for line in lines:\n",
        "        line = line.strip()\n",
        "        query_id, query_text = line.split('\\t')\n",
        "        CorpusQueries[query_id] = query_text\n",
        "\n",
        "# Now you have the queries stored in the 'queries' dictionary\n",
        "CorpusQueries = dict(sorted(CorpusQueries.items()))\n"
      ],
      "metadata": {
        "id": "V7ODFULpKZqH"
      },
      "execution_count": null,
      "outputs": []
    },
    {
      "cell_type": "code",
      "source": [
        "# Read relevance judgements\n",
        "\n",
        "CorpusRelJudgements = {}\n",
        "\n",
        "with open('/content/nfcorpus/train.3-2-1.qrel', 'r', encoding='utf-8') as file:\n",
        "    lines = file.readlines()\n",
        "\n",
        "    for line in lines:\n",
        "        line = line.strip()\n",
        "        query_id, _, doc_id, relevance = line.split('\\t')\n",
        "\n",
        "        if query_id not in CorpusRelJudgements:\n",
        "            CorpusRelJudgements[query_id] = {}\n",
        "\n",
        "        CorpusRelJudgements[query_id][doc_id] = int(relevance)\n",
        "\n",
        "# Now you have the relevance judgments stored in the 'relevance_judgments' dictionary\n",
        "corpus_result_que = {}\n",
        "for i in CorpusRelJudgements:\n",
        "  res = []\n",
        "  for j in CorpusRelJudgements[i]:\n",
        "    res.append(j)\n",
        "  corpus_result_que[i] = res\n",
        "\n",
        "corpus_result_que = dict(sorted(corpus_result_que.items()))"
      ],
      "metadata": {
        "id": "iza3k2sOKZ8e"
      },
      "execution_count": null,
      "outputs": []
    },
    {
      "cell_type": "markdown",
      "source": [
        "# Functions"
      ],
      "metadata": {
        "id": "Ru4CWswTK14a"
      }
    },
    {
      "cell_type": "code",
      "source": [
        "# Trang ver of AP/mAP by returning just the main mAP value of all 225 queries\n",
        "\n",
        "def precision(y_true, y_pred):\n",
        "  prec_list = []\n",
        "  rec_list = []\n",
        "  count = 0\n",
        "  for i in range(len(y_pred)):\n",
        "    if y_pred[i] in y_true:\n",
        "      count += 1\n",
        "      prec_list.append(count/(i+1))\n",
        "      rec_list.append(count/len(y_true))\n",
        "  return prec_list, rec_list\n",
        "# list prec nội suy nè\n",
        "def prec_in(prec_list, rec_list):\n",
        "  prec_list_in = []\n",
        "  for i in range(11):\n",
        "    rec = i/10\n",
        "    # prec_rec = max(rec->all)\n",
        "    # lấy max từ prec_rec_in\n",
        "    prec_rec_in = next((x[0] for x in enumerate(rec_list) if x[1] >= rec),-1)\n",
        "    # print('rec_in:', prec_rec_in)\n",
        "    prec_rec = 0\n",
        "    if prec_rec_in != -1:\n",
        "      prec_rec = max(prec_list[prec_rec_in:])\n",
        "    prec_list_in.append(prec_rec)\n",
        "  return prec_list_in"
      ],
      "metadata": {
        "id": "3jZPn8U9Kh9N"
      },
      "execution_count": null,
      "outputs": []
    },
    {
      "cell_type": "code",
      "source": [
        "def MAP(list_y_true, list_y_pred, noisuy=True):\n",
        "    common_keys = set(list_y_true.keys()).intersection(set(list_y_pred.keys()))\n",
        "    result_dict = {}\n",
        "\n",
        "    if noisuy:\n",
        "        prec_in_data = {}\n",
        "        for key in common_keys:\n",
        "            prec_list, rec_list = precision(list_y_true[key], list_y_pred[key])\n",
        "            prec_in_list = prec_in(prec_list, rec_list)\n",
        "            # print('prec_list', prec_list)\n",
        "            # print('rec_list', rec_list)\n",
        "            # print('prec_list_in', prec_in_list)\n",
        "            result_dict[key] = sum(prec_in_list) / len(prec_in_list)\n",
        "            prec_in_data[key] = prec_in_list\n",
        "        return prec_in_data, result_dict, sum(result_dict.values()) / len(result_dict.values())\n",
        "    else:\n",
        "        for key in common_keys:\n",
        "            prec_list, rec_list = precision(list_y_true[key], list_y_pred[key])\n",
        "            if len(prec_list) != 0:\n",
        "                result_dict[key] = sum(prec_list) / len(prec_list)\n",
        "            else:\n",
        "                result_dict[key] = 0\n",
        "\n",
        "    return result_dict, sum(result_dict.values()) / len(result_dict.values())"
      ],
      "metadata": {
        "id": "omlcDKyHK3Pd"
      },
      "execution_count": null,
      "outputs": []
    },
    {
      "cell_type": "code",
      "source": [
        "def count_P_R(list_y_true, list_y_pred):\n",
        "  common_keys = set(list_y_true.keys()).intersection(set(list_y_pred.keys()))\n",
        "  result_P_dict = {}\n",
        "  result_R_dict = {}\n",
        "  for key in common_keys:\n",
        "      count = 0\n",
        "      for i in range(len(list_y_pred[key])):\n",
        "        if list_y_pred[key][i] in list_y_true[key]:\n",
        "          count += 1\n",
        "      if len(list_y_pred[key])!=0:\n",
        "        result_P_dict[key] = count / len(list_y_pred[key])\n",
        "      else:\n",
        "        result_P_dict[key] = 0\n",
        "      result_R_dict[key] = count / len(list_y_true[key])\n",
        "  return result_P_dict, result_R_dict, sum(result_P_dict.values()) / len(result_P_dict.values()), sum(result_R_dict.values()) / len(result_R_dict.values())"
      ],
      "metadata": {
        "id": "vuEFJSLgK4e0"
      },
      "execution_count": null,
      "outputs": []
    },
    {
      "cell_type": "code",
      "source": [
        "from nltk.stem import PorterStemmer\n",
        "from nltk.corpus import stopwords\n",
        "import re\n",
        "from nltk.tokenize import word_tokenize\n",
        "import string\n",
        "\n",
        "def preprocessQueryStemmingAnalyzer(query_text):\n",
        "    stemmer = PorterStemmer()\n",
        "    stop_words = set(stopwords.words('english'))\n",
        "\n",
        "    # Lowercase the query text\n",
        "    query_text = query_text.lower()\n",
        "\n",
        "    # Remove non-alphanumeric characters\n",
        "    query_text = re.sub(r'[^a-z0-9\\s]', '', query_text)\n",
        "\n",
        "    # Tokenize the query text\n",
        "    words = word_tokenize(query_text)\n",
        "\n",
        "    # Process each word in the query\n",
        "    processed_words = []\n",
        "    for word in words:\n",
        "        if word not in stop_words and word.isdigit() == False and word.isnumeric() == False and word.isalnum():\n",
        "            stemmed_word = stemmer.stem(word)\n",
        "            processed_words.append(stemmed_word)\n",
        "\n",
        "    # Join the processed words into a single string\n",
        "    processed_query = ' '.join(processed_words)\n",
        "\n",
        "    return processed_query\n"
      ],
      "metadata": {
        "id": "Luft7NaOK4hC"
      },
      "execution_count": null,
      "outputs": []
    },
    {
      "cell_type": "code",
      "source": [
        "def preprocessQueryWithStopwords(query_text):\n",
        "    stemmer = PorterStemmer()\n",
        "\n",
        "    # Lowercase the query text\n",
        "    query_text = query_text.lower()\n",
        "\n",
        "    # Remove non-alphanumeric characters\n",
        "    query_text = re.sub(r'[^a-z0-9\\s]', '', query_text)\n",
        "\n",
        "    # Tokenize the query text\n",
        "    words = word_tokenize(query_text)\n",
        "\n",
        "    # Process each word in the query\n",
        "    processed_words = []\n",
        "    for word in words:\n",
        "        stemmed_word = stemmer.stem(word)\n",
        "        processed_words.append(stemmed_word)\n",
        "\n",
        "    # Join the processed words into a single string\n",
        "    processed_query = ' '.join(processed_words)\n",
        "\n",
        "    return processed_query"
      ],
      "metadata": {
        "id": "rgzeEbc3K-z4"
      },
      "execution_count": null,
      "outputs": []
    },
    {
      "cell_type": "markdown",
      "source": [
        "# Stem, Remove Stop"
      ],
      "metadata": {
        "id": "88LoSw0kLAW-"
      }
    },
    {
      "cell_type": "code",
      "source": [
        "# import shutil\n",
        "\n",
        "# shutil.rmtree('/content/indCorpusPSRemoveStop')"
      ],
      "metadata": {
        "id": "UFXOEDwXMK1X"
      },
      "execution_count": null,
      "outputs": []
    },
    {
      "cell_type": "code",
      "source": [
        "!mkdir /content/indCorpusPSRemoveStop"
      ],
      "metadata": {
        "id": "0A3TllqJLCbz"
      },
      "execution_count": null,
      "outputs": []
    },
    {
      "cell_type": "code",
      "source": [
        "from whoosh.analysis import StandardAnalyzer, StopFilter\n",
        "from whoosh.analysis import StemmingAnalyzer\n",
        "\n",
        "import time\n",
        "\n",
        "start_time = time.time()\n",
        "\n",
        "schema = Schema(docname=ID(stored=True), content=TEXT(stored=True, analyzer=StemmingAnalyzer()))\n",
        "ix = create_in(\"indCorpusPSRemoveStop\", schema)\n",
        "writer = ix.writer()\n",
        "\n",
        "for docname, content in CorpusDocs.items():\n",
        "    writer.add_document(docname=docname, content=content)\n",
        "\n",
        "writer.commit()\n",
        "\n",
        "total_timeStemRemoveStop = time.time() - start_time\n",
        "print(\"Total execution time:\", total_timeStemRemoveStop)\n"
      ],
      "metadata": {
        "colab": {
          "base_uri": "https://localhost:8080/"
        },
        "id": "rOlQjkvuLFTR",
        "outputId": "69c38795-a0b8-4d94-95a3-b150a2780f14"
      },
      "execution_count": null,
      "outputs": [
        {
          "output_type": "stream",
          "name": "stdout",
          "text": [
            "Total execution time: 15.518402099609375\n"
          ]
        }
      ]
    },
    {
      "cell_type": "code",
      "source": [
        "!ls /content/indCorpusPSRemoveStop"
      ],
      "metadata": {
        "colab": {
          "base_uri": "https://localhost:8080/"
        },
        "id": "TWi1e5jkLSoQ",
        "outputId": "18b44af3-f0f5-469f-ab1f-153c47ab0437"
      },
      "execution_count": null,
      "outputs": [
        {
          "output_type": "stream",
          "name": "stdout",
          "text": [
            "_MAIN_1.toc  MAIN_oyb8fjjparwc0cxe.seg\tMAIN_WRITELOCK\n"
          ]
        }
      ]
    },
    {
      "cell_type": "markdown",
      "source": [
        "## TF-IDF"
      ],
      "metadata": {
        "id": "K5WNFRnELVc_"
      }
    },
    {
      "cell_type": "code",
      "source": [
        "ind = index.open_dir(\"indCorpusPSRemoveStop\")\n",
        "searcher = ind.searcher(weighting=scoring.TF_IDF())\n",
        "parser = qparser.QueryParser(\"content\", ind.schema, group=qparser.OrGroup)\n",
        "\n",
        "results_dict = {}\n",
        "\n",
        "start_time = time.time()\n",
        "\n",
        "for query_name, query_text in CorpusQueries.items():\n",
        "    temp = preprocessQueryStemmingAnalyzer(query_text)\n",
        "    query = parser.parse(temp)\n",
        "    num_values = len(corpus_result_que)\n",
        "    results = searcher.search(query, limit=num_values)\n",
        "    docid_list = [result['docname'] for result in results]\n",
        "    results_dict[query_name] = docid_list\n",
        "\n",
        "total_timeStemRemoveStop_TFIDF = time.time() - start_time\n",
        "print(\"Total execution time:\", total_timeStemRemoveStop_TFIDF)"
      ],
      "metadata": {
        "colab": {
          "base_uri": "https://localhost:8080/"
        },
        "id": "m7NPYnM9LZB6",
        "outputId": "40a1d25e-49e8-471c-a1bd-89ff348c8103"
      },
      "execution_count": null,
      "outputs": [
        {
          "output_type": "stream",
          "name": "stdout",
          "text": [
            "Total execution time: 1087.5343987941742\n"
          ]
        }
      ]
    },
    {
      "cell_type": "code",
      "source": [
        "len(results_dict)"
      ],
      "metadata": {
        "colab": {
          "base_uri": "https://localhost:8080/"
        },
        "id": "8mhR2IOMRA91",
        "outputId": "4eec1d96-03a0-47c8-b2a9-f847cb4c0efd"
      },
      "execution_count": null,
      "outputs": [
        {
          "output_type": "execute_result",
          "data": {
            "text/plain": [
              "2594"
            ]
          },
          "metadata": {},
          "execution_count": 18
        }
      ]
    },
    {
      "cell_type": "code",
      "source": [
        "listAP_PSRemoveStop_TFIDF, listOfAP_PSRemoveStop_TFIDF_Inter, MAP_PSRemoveStop_TFIDF_Inter = MAP(corpus_result_que, results_dict)\n",
        "l_PSRemoveStop_TFIDF_p5, l_PSRemoveStop_TFIDF_r5, p5_PSRemoveStop_TFIDF, r5_PSRemoveStop_TFIDF = count_P_R(corpus_result_que, results_dict)\n",
        "listOfAP_PSRemoveStop_TFIDF_NonInter, MAP_PSRemoveStop_TFIDF_NonInter = MAP(corpus_result_que, results_dict, False)\n",
        "\n",
        "print(MAP_PSRemoveStop_TFIDF_Inter)\n",
        "print(MAP_PSRemoveStop_TFIDF_NonInter)"
      ],
      "metadata": {
        "colab": {
          "base_uri": "https://localhost:8080/"
        },
        "id": "Ol9Z1QUZRDg1",
        "outputId": "83dbb044-4f21-4b88-b65e-45b580cba3eb"
      },
      "execution_count": null,
      "outputs": [
        {
          "output_type": "stream",
          "name": "stdout",
          "text": [
            "0.10888477796352161\n",
            "0.10357016026745498\n"
          ]
        }
      ]
    },
    {
      "cell_type": "code",
      "source": [
        "print(p5_PSRemoveStop_TFIDF, r5_PSRemoveStop_TFIDF)"
      ],
      "metadata": {
        "colab": {
          "base_uri": "https://localhost:8080/"
        },
        "id": "Q1Z4QpbDRNdr",
        "outputId": "3d88fdae-01e8-4660-bd06-ec272f1fa05c"
      },
      "execution_count": null,
      "outputs": [
        {
          "output_type": "stream",
          "name": "stdout",
          "text": [
            "0.018414110102097207 0.8913896918991252\n"
          ]
        }
      ]
    },
    {
      "cell_type": "markdown",
      "source": [
        "## BM25F"
      ],
      "metadata": {
        "id": "iKpexfZ8RPeh"
      }
    },
    {
      "cell_type": "code",
      "source": [
        "ind = index.open_dir(\"indCorpusPSRemoveStop\")\n",
        "searcher = ind.searcher(weighting=scoring.BM25F())\n",
        "parser = qparser.QueryParser(\"content\", ind.schema, group=qparser.OrGroup)\n",
        "\n",
        "results_dict = {}\n",
        "\n",
        "start_time = time.time()\n",
        "\n",
        "for query_name, query_text in CorpusQueries.items():\n",
        "    temp = preprocessQueryStemmingAnalyzer(query_text)\n",
        "    query = parser.parse(temp)\n",
        "    num_values = len(corpus_result_que)\n",
        "    results = searcher.search(query, limit=num_values)\n",
        "    docid_list = [result['docname'] for result in results]\n",
        "    results_dict[query_name] = docid_list\n",
        "\n",
        "total_timeStemRemoveStop_BM25F = time.time() - start_time\n",
        "print(\"Total execution time:\", total_timeStemRemoveStop_BM25F)"
      ],
      "metadata": {
        "colab": {
          "base_uri": "https://localhost:8080/"
        },
        "id": "5nlgb9ZyRTBL",
        "outputId": "ecfa79ba-60be-47b1-d6f9-af93a4fa4e48"
      },
      "execution_count": null,
      "outputs": [
        {
          "output_type": "stream",
          "name": "stdout",
          "text": [
            "Total execution time: 1425.457442998886\n"
          ]
        }
      ]
    },
    {
      "cell_type": "code",
      "source": [
        "listAP_PSRemoveStop_BM25F, listOfAP_PSRemoveStop_BM25F_Inter, MAP_PSRemoveStop_BM25F_Inter = MAP(corpus_result_que, results_dict)\n",
        "l_PSRemoveStop_BM25F_p5, l_PSRemoveStop_BM25F_r5, p5_PSRemoveStop_BM25F, r5_PSRemoveStop_BM25F = count_P_R(corpus_result_que, results_dict)\n",
        "listOfAP_PSRemoveStop_BM25F_NonInter, MAP_PSRemoveStop_BM25F_NonInter = MAP(corpus_result_que, results_dict, False)\n",
        "\n",
        "print(MAP_PSRemoveStop_BM25F_Inter)\n",
        "print(MAP_PSRemoveStop_BM25F_NonInter)\n"
      ],
      "metadata": {
        "colab": {
          "base_uri": "https://localhost:8080/"
        },
        "id": "kKbi_TW4W3Go",
        "outputId": "b3a41063-f12b-487e-f92f-76cecc16804c"
      },
      "execution_count": null,
      "outputs": [
        {
          "output_type": "stream",
          "name": "stdout",
          "text": [
            "0.17486483217037657\n",
            "0.16731848635046218\n"
          ]
        }
      ]
    },
    {
      "cell_type": "code",
      "source": [
        "print(p5_PSRemoveStop_BM25F, r5_PSRemoveStop_BM25F)"
      ],
      "metadata": {
        "colab": {
          "base_uri": "https://localhost:8080/"
        },
        "id": "4bS4fk3nW_T5",
        "outputId": "e36ba99a-e914-4441-cc53-7d017919ee96"
      },
      "execution_count": null,
      "outputs": [
        {
          "output_type": "stream",
          "name": "stdout",
          "text": [
            "0.01843016042640293 0.8927512012672214\n"
          ]
        }
      ]
    },
    {
      "cell_type": "markdown",
      "source": [
        "## Frequency"
      ],
      "metadata": {
        "id": "OoAVLeDBYiQb"
      }
    },
    {
      "cell_type": "code",
      "source": [
        "ind = index.open_dir(\"indCorpusPSRemoveStop\")\n",
        "searcher = ind.searcher(weighting=scoring.Frequency())\n",
        "parser = qparser.QueryParser(\"content\", ind.schema, group=qparser.OrGroup)\n",
        "\n",
        "results_dict = {}\n",
        "start_time = time.time()\n",
        "for query_name, query_text in CorpusQueries.items():\n",
        "    temp = preprocessQueryStemmingAnalyzer(query_text)\n",
        "    query = parser.parse(temp)\n",
        "    num_values = len(corpus_result_que)\n",
        "    results = searcher.search(query, limit=num_values)\n",
        "    docid_list = [result['docname'] for result in results]\n",
        "    results_dict[query_name] = docid_list\n",
        "\n",
        "total_timeStemRemoveStop_Frequency = time.time() - start_time\n",
        "print(\"Total execution time:\", total_timeStemRemoveStop_Frequency)"
      ],
      "metadata": {
        "colab": {
          "base_uri": "https://localhost:8080/"
        },
        "id": "r_HB_JOgYkfg",
        "outputId": "58c2e9f1-45cd-41c9-a264-b8bd8020e9f9"
      },
      "execution_count": null,
      "outputs": [
        {
          "output_type": "stream",
          "name": "stdout",
          "text": [
            "Total execution time: 880.9008748531342\n"
          ]
        }
      ]
    },
    {
      "cell_type": "code",
      "source": [
        "listAP_PSRemoveStop_Frequency, listOfAP_PSRemoveStop_Frequency_Inter, MAP_PSRemoveStop_Frequency_Inter = MAP(corpus_result_que, results_dict)\n",
        "l_PSRemoveStop_Frequency_p5, l_PSRemoveStop_Frequency_r5, p5_PSRemoveStop_Frequency, r5_PSRemoveStop_Frequency = count_P_R(corpus_result_que, results_dict)\n",
        "listOfAP_PSRemoveStop_Frequency_NonInter, MAP_PSRemoveStop_Frequency_NonInter = MAP(corpus_result_que, results_dict, False)\n",
        "\n",
        "print(MAP_PSRemoveStop_Frequency_Inter)\n",
        "print(MAP_PSRemoveStop_Frequency_NonInter)"
      ],
      "metadata": {
        "colab": {
          "base_uri": "https://localhost:8080/"
        },
        "id": "kQ2-RwhWcPj1",
        "outputId": "774efbe1-6bf5-4158-d6a6-aad025f841bf"
      },
      "execution_count": null,
      "outputs": [
        {
          "output_type": "stream",
          "name": "stdout",
          "text": [
            "0.06702140610963818\n",
            "0.06455814247671546\n"
          ]
        }
      ]
    },
    {
      "cell_type": "code",
      "source": [
        "print(p5_PSRemoveStop_Frequency, r5_PSRemoveStop_Frequency)"
      ],
      "metadata": {
        "colab": {
          "base_uri": "https://localhost:8080/"
        },
        "id": "AqNpOpHwcSBF",
        "outputId": "32f535c8-0fe1-4b1c-cb02-44181785bf90"
      },
      "execution_count": null,
      "outputs": [
        {
          "output_type": "stream",
          "name": "stdout",
          "text": [
            "0.0182784254160683 0.8817167781328643\n"
          ]
        }
      ]
    },
    {
      "cell_type": "markdown",
      "source": [
        "# Stem Only"
      ],
      "metadata": {
        "id": "QVBq-p81cns4"
      }
    },
    {
      "cell_type": "code",
      "source": [
        "# shutil.rmtree('/content/indCorpusPS')"
      ],
      "metadata": {
        "id": "ths4H1-K5Xaw"
      },
      "execution_count": null,
      "outputs": []
    },
    {
      "cell_type": "code",
      "source": [
        "!mkdir /content/indCorpusPS"
      ],
      "metadata": {
        "id": "Myo3XOgYcpRh"
      },
      "execution_count": null,
      "outputs": []
    },
    {
      "cell_type": "code",
      "source": [
        "start_time = time.time()\n",
        "\n",
        "schema = Schema(docname=ID(stored=True), content=TEXT(stored=True, analyzer=StemmingAnalyzer(stoplist=None)))\n",
        "ix = create_in(\"indCorpusPS\", schema)\n",
        "writer = ix.writer()\n",
        "\n",
        "for docname, content in CorpusDocs.items():\n",
        "    writer.add_document(docname=docname, content=content)\n",
        "\n",
        "writer.commit()\n",
        "\n",
        "total_timeStem = time.time() - start_time\n",
        "print(\"Total execution time:\", total_timeStem)\n"
      ],
      "metadata": {
        "colab": {
          "base_uri": "https://localhost:8080/"
        },
        "id": "ufkfcM7Hcr2A",
        "outputId": "07916394-693e-445b-fb1f-0c0cc9290802"
      },
      "execution_count": null,
      "outputs": [
        {
          "output_type": "stream",
          "name": "stdout",
          "text": [
            "Total execution time: 8.544649839401245\n"
          ]
        }
      ]
    },
    {
      "cell_type": "code",
      "source": [
        "!ls /content/indCorpusPS"
      ],
      "metadata": {
        "colab": {
          "base_uri": "https://localhost:8080/"
        },
        "id": "Th48pqb3c6an",
        "outputId": "0fd9477b-461e-4885-eea4-a82e41718934"
      },
      "execution_count": null,
      "outputs": [
        {
          "output_type": "stream",
          "name": "stdout",
          "text": [
            "_MAIN_1.toc  MAIN_6xwtrgchyph2zc68.seg\tMAIN_WRITELOCK\n"
          ]
        }
      ]
    },
    {
      "cell_type": "markdown",
      "source": [
        "## TF-IDF"
      ],
      "metadata": {
        "id": "skVihFHWn6F-"
      }
    },
    {
      "cell_type": "code",
      "source": [
        "ind = index.open_dir(\"indCorpusPS\")\n",
        "searcher = ind.searcher(weighting=scoring.TF_IDF())\n",
        "parser = qparser.QueryParser(\"content\", ind.schema, group=qparser.OrGroup)\n",
        "\n",
        "results_dict = {}\n",
        "start_time = time.time()\n",
        "\n",
        "for query_name, query_text in CorpusQueries.items():\n",
        "    temp = preprocessQueryWithStopwords(query_text)\n",
        "    query = parser.parse(temp)\n",
        "    num_values = len(corpus_result_que)\n",
        "    results = searcher.search(query, limit=num_values)\n",
        "    docid_list = [result['docname'] for result in results]\n",
        "    results_dict[query_name] = docid_list\n",
        "total_timeStem_TFIDF = time.time() - start_time\n",
        "print(\"Total execution time:\", total_timeStem_TFIDF)"
      ],
      "metadata": {
        "colab": {
          "base_uri": "https://localhost:8080/"
        },
        "id": "fgE_-kIPn4Vs",
        "outputId": "d2ddeb4b-8018-4ab5-91ce-764e23d89c24"
      },
      "execution_count": null,
      "outputs": [
        {
          "output_type": "stream",
          "name": "stdout",
          "text": [
            "Total execution time: 1303.0548467636108\n"
          ]
        }
      ]
    },
    {
      "cell_type": "code",
      "source": [
        "listAP_PS_TFIDF, listOfAP_PS_Inter, MAP_PS_Inter = MAP(corpus_result_que, results_dict)\n",
        "l_PS_p5, l_PS_r5, p5_PS, r5_PS = count_P_R(corpus_result_que, results_dict)\n",
        "listOfAP_PS_NonInter, MAP_PS_NonInter = MAP(corpus_result_que, results_dict, False)\n",
        "\n",
        "print(MAP_PS_Inter)\n",
        "print(MAP_PS_NonInter)"
      ],
      "metadata": {
        "colab": {
          "base_uri": "https://localhost:8080/"
        },
        "id": "NrH1nb1ntWsG",
        "outputId": "98ae1950-086c-4df7-de5c-56988d4e27bc"
      },
      "execution_count": null,
      "outputs": [
        {
          "output_type": "stream",
          "name": "stdout",
          "text": [
            "0.10729267132498103\n",
            "0.10192989281227602\n"
          ]
        }
      ]
    },
    {
      "cell_type": "code",
      "source": [
        "print(p5_PS, r5_PS)"
      ],
      "metadata": {
        "colab": {
          "base_uri": "https://localhost:8080/"
        },
        "id": "kYYgOW7YtY_k",
        "outputId": "ad452cc0-9b9b-491e-aa0a-c893ff544137"
      },
      "execution_count": null,
      "outputs": [
        {
          "output_type": "stream",
          "name": "stdout",
          "text": [
            "0.01830967247955718 0.8902170756969523\n"
          ]
        }
      ]
    },
    {
      "cell_type": "markdown",
      "source": [
        "## BM25F"
      ],
      "metadata": {
        "id": "AeWBi3Xttheb"
      }
    },
    {
      "cell_type": "code",
      "source": [
        "ind = index.open_dir(\"indCorpusPS\")\n",
        "searcher = ind.searcher(weighting=scoring.BM25F())\n",
        "parser = qparser.QueryParser(\"content\", ind.schema, group=qparser.OrGroup)\n",
        "\n",
        "results_dict = {}\n",
        "start_time = time.time()\n",
        "\n",
        "for query_name, query_text in CorpusQueries.items():\n",
        "    temp = preprocessQueryWithStopwords(query_text)\n",
        "    query = parser.parse(temp)\n",
        "    num_values = len(corpus_result_que)\n",
        "    results = searcher.search(query, limit=num_values)\n",
        "    docid_list = [result['docname'] for result in results]\n",
        "    results_dict[query_name] = docid_list\n",
        "total_timeStem_BM25F = time.time() - start_time\n",
        "print(\"Total execution time:\", total_timeStem_BM25F)"
      ],
      "metadata": {
        "colab": {
          "base_uri": "https://localhost:8080/"
        },
        "id": "mEtz3uuBtjWO",
        "outputId": "5693deb9-12a6-402b-ba06-8959d24c9e7e"
      },
      "execution_count": null,
      "outputs": [
        {
          "output_type": "stream",
          "name": "stdout",
          "text": [
            "Total execution time: 1657.4969823360443\n"
          ]
        }
      ]
    },
    {
      "cell_type": "code",
      "source": [
        "listAP_PS_BM25F, listOfAP_PS_BM25F_Inter, MAP_PS_BM25F_Inter = MAP(corpus_result_que, results_dict)\n",
        "l_PS_BM25F_p5, l_PS_BM25F_r5, p5_PS_BM25F, r5_PS_BM25F = count_P_R(corpus_result_que, results_dict)\n",
        "listOfAP_PS_BM25F_NonInter, MAP_PS_BM25F_NonInter = MAP(corpus_result_que, results_dict, False)\n",
        "\n",
        "print(MAP_PS_BM25F_Inter)\n",
        "print(MAP_PS_BM25F_NonInter)"
      ],
      "metadata": {
        "colab": {
          "base_uri": "https://localhost:8080/"
        },
        "id": "ohMtgn5OuWrR",
        "outputId": "999c1661-e2ba-4218-a7df-cfc3074ee814"
      },
      "execution_count": null,
      "outputs": [
        {
          "output_type": "stream",
          "name": "stdout",
          "text": [
            "0.17124949206600854\n",
            "0.16322198388097126\n"
          ]
        }
      ]
    },
    {
      "cell_type": "code",
      "source": [
        "print(p5_PS_BM25F, r5_PS_BM25F)"
      ],
      "metadata": {
        "colab": {
          "base_uri": "https://localhost:8080/"
        },
        "id": "J5ClnRp9uZeO",
        "outputId": "f19b8ffd-d796-4f5b-c260-7e825abba3c5"
      },
      "execution_count": null,
      "outputs": [
        {
          "output_type": "stream",
          "name": "stdout",
          "text": [
            "0.018331815982534534 0.8918469527581678\n"
          ]
        }
      ]
    },
    {
      "cell_type": "markdown",
      "source": [
        "## Frequency"
      ],
      "metadata": {
        "id": "lXxrfa_9ubFS"
      }
    },
    {
      "cell_type": "code",
      "source": [
        "ind = index.open_dir(\"indCorpusPS\")\n",
        "searcher = ind.searcher(weighting=scoring.Frequency())\n",
        "parser = qparser.QueryParser(\"content\", ind.schema, group=qparser.OrGroup)\n",
        "\n",
        "results_dict = {}\n",
        "start_time = time.time()\n",
        "\n",
        "for query_name, query_text in CorpusQueries.items():\n",
        "    temp = preprocessQueryWithStopwords(query_text)\n",
        "    query = parser.parse(temp)\n",
        "\n",
        "    num_values = len(corpus_result_que)\n",
        "    results = searcher.search(query, limit=num_values)\n",
        "\n",
        "    docid_list = [result['docname'] for result in results]\n",
        "    results_dict[query_name] = docid_list\n",
        "\n",
        "total_timeStem_Frequency = time.time() - start_time\n",
        "print(\"Total execution time:\", total_timeStem_Frequency)"
      ],
      "metadata": {
        "colab": {
          "base_uri": "https://localhost:8080/"
        },
        "id": "k3hciFB5udaI",
        "outputId": "75828a84-c125-42d6-b735-846a5f6ba9ab"
      },
      "execution_count": null,
      "outputs": [
        {
          "output_type": "stream",
          "name": "stdout",
          "text": [
            "Total execution time: 1074.0482070446014\n"
          ]
        }
      ]
    },
    {
      "cell_type": "code",
      "source": [
        "listAP_PS_Frequency, listOfAP_PS_Frequency_Inter, MAP_PS_Frequency_Inter = MAP(corpus_result_que, results_dict)\n",
        "l_PS_Frequency_p5, l_PS_Frequency_r5, p5_PS_Frequency, r5_PS_Frequency = count_P_R(corpus_result_que, results_dict)\n",
        "listOfAP_PS_Frequency_NonInter, MAP_PS_Frequency_NonInter = MAP(corpus_result_que, results_dict, False)\n",
        "\n",
        "print(MAP_PS_Frequency_Inter)\n",
        "print(MAP_PS_Frequency_NonInter)"
      ],
      "metadata": {
        "colab": {
          "base_uri": "https://localhost:8080/"
        },
        "id": "IiwzEYi_ujZ-",
        "outputId": "0d04ae13-a401-4797-81f6-0c4ef7bed513"
      },
      "execution_count": null,
      "outputs": [
        {
          "output_type": "stream",
          "name": "stdout",
          "text": [
            "0.0660052963594649\n",
            "0.0635549112782788\n"
          ]
        }
      ]
    },
    {
      "cell_type": "code",
      "source": [
        "print(p5_PS_Frequency, r5_PS_Frequency)"
      ],
      "metadata": {
        "colab": {
          "base_uri": "https://localhost:8080/"
        },
        "id": "wNW9J3GFumMB",
        "outputId": "b80eec03-d353-4fec-91c6-e060334bd802"
      },
      "execution_count": null,
      "outputs": [
        {
          "output_type": "stream",
          "name": "stdout",
          "text": [
            "0.018194347927138307 0.8813611289466806\n"
          ]
        }
      ]
    },
    {
      "cell_type": "markdown",
      "source": [
        "# Thống kê"
      ],
      "metadata": {
        "id": "Lj2Ce-piunXy"
      }
    },
    {
      "cell_type": "code",
      "source": [
        "import pandas as pd\n",
        "\n",
        "# Define your data\n",
        "q1 = [\"Stem + Stop + TFIDF\", total_timeStemRemoveStop, total_timeStemRemoveStop_TFIDF, MAP_PSRemoveStop_TFIDF_Inter, MAP_PSRemoveStop_TFIDF_NonInter, p5_PSRemoveStop_TFIDF, r5_PSRemoveStop_TFIDF]\n",
        "q2 = [\"Stem + Stop + BM25F\", total_timeStemRemoveStop, total_timeStemRemoveStop_BM25F, MAP_PSRemoveStop_BM25F_Inter, MAP_PSRemoveStop_BM25F_NonInter, p5_PSRemoveStop_BM25F, r5_PSRemoveStop_BM25F]\n",
        "q3 = [\"Stem + Stop + Frequency\", total_timeStemRemoveStop, total_timeStemRemoveStop_Frequency, MAP_PSRemoveStop_Frequency_Inter, MAP_PSRemoveStop_Frequency_NonInter, p5_PSRemoveStop_Frequency, r5_PSRemoveStop_Frequency]\n",
        "q4 = [\"Stem + TFIDF\", total_timeStem, total_timeStem_TFIDF, MAP_PS_Inter, MAP_PS_NonInter, p5_PS, r5_PS]\n",
        "q5 = [\"Stem + BM25F\", total_timeStem, total_timeStem_BM25F, MAP_PS_BM25F_Inter, MAP_PS_BM25F_NonInter, p5_PS_BM25F, r5_PS_BM25F]\n",
        "q6 = [\"Stem + Frequency\", total_timeStem, total_timeStem_Frequency, MAP_PS_Frequency_Inter, MAP_PS_Frequency_NonInter, p5_PS_Frequency, r5_PS_Frequency]\n",
        "\n",
        "col = [\"Type\", \"Index Time\", \"Query Time\", \"Inter\", \"NonInter\", \"P\", \"R\"]\n",
        "\n",
        "# Create the DataFrame\n",
        "df = pd.DataFrame([q1, q2, q3, q4, q5, q6], columns=col)\n",
        "\n",
        "# Round the numeric columns to 2 decimal places\n",
        "numeric_cols = [\"Index Time\", \"Query Time\", \"Inter\", \"NonInter\", \"P\", \"R\"]\n",
        "df[numeric_cols] = df[numeric_cols].round(4)\n",
        "\n",
        "# Print the rounded DataFrame\n",
        "df\n"
      ],
      "metadata": {
        "colab": {
          "base_uri": "https://localhost:8080/"
        },
        "id": "cV8Y4nDluoru",
        "outputId": "3dba67b3-270d-437e-d4fc-37de57e01b15"
      },
      "execution_count": null,
      "outputs": [
        {
          "output_type": "execute_result",
          "data": {
            "text/plain": [
              "                      Type  Index Time  Query Time   Inter  NonInter       P  \\\n",
              "0      Stem + Stop + TFIDF     15.5184   1087.5344  0.1089    0.1036  0.0184   \n",
              "1      Stem + Stop + BM25F     15.5184   1425.4574  0.1749    0.1673  0.0184   \n",
              "2  Stem + Stop + Frequency     15.5184    880.9009  0.0670    0.0646  0.0183   \n",
              "3             Stem + TFIDF      8.5446   1303.0548  0.1073    0.1019  0.0183   \n",
              "4             Stem + BM25F      8.5446   1657.4970  0.1712    0.1632  0.0183   \n",
              "5         Stem + Frequency      8.5446   1074.0482  0.0660    0.0636  0.0182   \n",
              "\n",
              "        R  \n",
              "0  0.8914  \n",
              "1  0.8928  \n",
              "2  0.8817  \n",
              "3  0.8902  \n",
              "4  0.8918  \n",
              "5  0.8814  "
            ],
            "text/html": [
              "\n",
              "  <div id=\"df-902ff6eb-1bcf-4e1e-ad9c-6705f2fbe892\">\n",
              "    <div class=\"colab-df-container\">\n",
              "      <div>\n",
              "<style scoped>\n",
              "    .dataframe tbody tr th:only-of-type {\n",
              "        vertical-align: middle;\n",
              "    }\n",
              "\n",
              "    .dataframe tbody tr th {\n",
              "        vertical-align: top;\n",
              "    }\n",
              "\n",
              "    .dataframe thead th {\n",
              "        text-align: right;\n",
              "    }\n",
              "</style>\n",
              "<table border=\"1\" class=\"dataframe\">\n",
              "  <thead>\n",
              "    <tr style=\"text-align: right;\">\n",
              "      <th></th>\n",
              "      <th>Type</th>\n",
              "      <th>Index Time</th>\n",
              "      <th>Query Time</th>\n",
              "      <th>Inter</th>\n",
              "      <th>NonInter</th>\n",
              "      <th>P</th>\n",
              "      <th>R</th>\n",
              "    </tr>\n",
              "  </thead>\n",
              "  <tbody>\n",
              "    <tr>\n",
              "      <th>0</th>\n",
              "      <td>Stem + Stop + TFIDF</td>\n",
              "      <td>15.5184</td>\n",
              "      <td>1087.5344</td>\n",
              "      <td>0.1089</td>\n",
              "      <td>0.1036</td>\n",
              "      <td>0.0184</td>\n",
              "      <td>0.8914</td>\n",
              "    </tr>\n",
              "    <tr>\n",
              "      <th>1</th>\n",
              "      <td>Stem + Stop + BM25F</td>\n",
              "      <td>15.5184</td>\n",
              "      <td>1425.4574</td>\n",
              "      <td>0.1749</td>\n",
              "      <td>0.1673</td>\n",
              "      <td>0.0184</td>\n",
              "      <td>0.8928</td>\n",
              "    </tr>\n",
              "    <tr>\n",
              "      <th>2</th>\n",
              "      <td>Stem + Stop + Frequency</td>\n",
              "      <td>15.5184</td>\n",
              "      <td>880.9009</td>\n",
              "      <td>0.0670</td>\n",
              "      <td>0.0646</td>\n",
              "      <td>0.0183</td>\n",
              "      <td>0.8817</td>\n",
              "    </tr>\n",
              "    <tr>\n",
              "      <th>3</th>\n",
              "      <td>Stem + TFIDF</td>\n",
              "      <td>8.5446</td>\n",
              "      <td>1303.0548</td>\n",
              "      <td>0.1073</td>\n",
              "      <td>0.1019</td>\n",
              "      <td>0.0183</td>\n",
              "      <td>0.8902</td>\n",
              "    </tr>\n",
              "    <tr>\n",
              "      <th>4</th>\n",
              "      <td>Stem + BM25F</td>\n",
              "      <td>8.5446</td>\n",
              "      <td>1657.4970</td>\n",
              "      <td>0.1712</td>\n",
              "      <td>0.1632</td>\n",
              "      <td>0.0183</td>\n",
              "      <td>0.8918</td>\n",
              "    </tr>\n",
              "    <tr>\n",
              "      <th>5</th>\n",
              "      <td>Stem + Frequency</td>\n",
              "      <td>8.5446</td>\n",
              "      <td>1074.0482</td>\n",
              "      <td>0.0660</td>\n",
              "      <td>0.0636</td>\n",
              "      <td>0.0182</td>\n",
              "      <td>0.8814</td>\n",
              "    </tr>\n",
              "  </tbody>\n",
              "</table>\n",
              "</div>\n",
              "      <button class=\"colab-df-convert\" onclick=\"convertToInteractive('df-902ff6eb-1bcf-4e1e-ad9c-6705f2fbe892')\"\n",
              "              title=\"Convert this dataframe to an interactive table.\"\n",
              "              style=\"display:none;\">\n",
              "        \n",
              "  <svg xmlns=\"http://www.w3.org/2000/svg\" height=\"24px\"viewBox=\"0 0 24 24\"\n",
              "       width=\"24px\">\n",
              "    <path d=\"M0 0h24v24H0V0z\" fill=\"none\"/>\n",
              "    <path d=\"M18.56 5.44l.94 2.06.94-2.06 2.06-.94-2.06-.94-.94-2.06-.94 2.06-2.06.94zm-11 1L8.5 8.5l.94-2.06 2.06-.94-2.06-.94L8.5 2.5l-.94 2.06-2.06.94zm10 10l.94 2.06.94-2.06 2.06-.94-2.06-.94-.94-2.06-.94 2.06-2.06.94z\"/><path d=\"M17.41 7.96l-1.37-1.37c-.4-.4-.92-.59-1.43-.59-.52 0-1.04.2-1.43.59L10.3 9.45l-7.72 7.72c-.78.78-.78 2.05 0 2.83L4 21.41c.39.39.9.59 1.41.59.51 0 1.02-.2 1.41-.59l7.78-7.78 2.81-2.81c.8-.78.8-2.07 0-2.86zM5.41 20L4 18.59l7.72-7.72 1.47 1.35L5.41 20z\"/>\n",
              "  </svg>\n",
              "      </button>\n",
              "      \n",
              "  <style>\n",
              "    .colab-df-container {\n",
              "      display:flex;\n",
              "      flex-wrap:wrap;\n",
              "      gap: 12px;\n",
              "    }\n",
              "\n",
              "    .colab-df-convert {\n",
              "      background-color: #E8F0FE;\n",
              "      border: none;\n",
              "      border-radius: 50%;\n",
              "      cursor: pointer;\n",
              "      display: none;\n",
              "      fill: #1967D2;\n",
              "      height: 32px;\n",
              "      padding: 0 0 0 0;\n",
              "      width: 32px;\n",
              "    }\n",
              "\n",
              "    .colab-df-convert:hover {\n",
              "      background-color: #E2EBFA;\n",
              "      box-shadow: 0px 1px 2px rgba(60, 64, 67, 0.3), 0px 1px 3px 1px rgba(60, 64, 67, 0.15);\n",
              "      fill: #174EA6;\n",
              "    }\n",
              "\n",
              "    [theme=dark] .colab-df-convert {\n",
              "      background-color: #3B4455;\n",
              "      fill: #D2E3FC;\n",
              "    }\n",
              "\n",
              "    [theme=dark] .colab-df-convert:hover {\n",
              "      background-color: #434B5C;\n",
              "      box-shadow: 0px 1px 3px 1px rgba(0, 0, 0, 0.15);\n",
              "      filter: drop-shadow(0px 1px 2px rgba(0, 0, 0, 0.3));\n",
              "      fill: #FFFFFF;\n",
              "    }\n",
              "  </style>\n",
              "\n",
              "      <script>\n",
              "        const buttonEl =\n",
              "          document.querySelector('#df-902ff6eb-1bcf-4e1e-ad9c-6705f2fbe892 button.colab-df-convert');\n",
              "        buttonEl.style.display =\n",
              "          google.colab.kernel.accessAllowed ? 'block' : 'none';\n",
              "\n",
              "        async function convertToInteractive(key) {\n",
              "          const element = document.querySelector('#df-902ff6eb-1bcf-4e1e-ad9c-6705f2fbe892');\n",
              "          const dataTable =\n",
              "            await google.colab.kernel.invokeFunction('convertToInteractive',\n",
              "                                                     [key], {});\n",
              "          if (!dataTable) return;\n",
              "\n",
              "          const docLinkHtml = 'Like what you see? Visit the ' +\n",
              "            '<a target=\"_blank\" href=https://colab.research.google.com/notebooks/data_table.ipynb>data table notebook</a>'\n",
              "            + ' to learn more about interactive tables.';\n",
              "          element.innerHTML = '';\n",
              "          dataTable['output_type'] = 'display_data';\n",
              "          await google.colab.output.renderOutput(dataTable, element);\n",
              "          const docLink = document.createElement('div');\n",
              "          docLink.innerHTML = docLinkHtml;\n",
              "          element.appendChild(docLink);\n",
              "        }\n",
              "      </script>\n",
              "    </div>\n",
              "  </div>\n",
              "  "
            ]
          },
          "metadata": {},
          "execution_count": 41
        }
      ]
    }
  ]
}